{
 "cells": [
  {
   "cell_type": "code",
   "execution_count": 1,
   "metadata": {},
   "outputs": [],
   "source": [
    "%load_ext autoreload\n",
    "%autoreload 2"
   ]
  },
  {
   "cell_type": "code",
   "execution_count": 2,
   "metadata": {},
   "outputs": [],
   "source": [
    "import os,sys\n",
    "from glob import glob\n",
    "import matplotlib.pyplot as plt\n",
    "import numpy as np\n",
    "import torch\n",
    "import torchvision\n",
    "import tqdm\n",
    "import pandas as pd\n",
    "import dataset_utils\n",
    "import torchxrayvision as xrv"
   ]
  },
  {
   "cell_type": "code",
   "execution_count": null,
   "metadata": {},
   "outputs": [],
   "source": []
  },
  {
   "cell_type": "code",
   "execution_count": null,
   "metadata": {},
   "outputs": [],
   "source": []
  },
  {
   "cell_type": "code",
   "execution_count": 3,
   "metadata": {},
   "outputs": [],
   "source": [
    "model = xrv.baseline_models.mi2rl.CheSS().cuda()"
   ]
  },
  {
   "cell_type": "code",
   "execution_count": null,
   "metadata": {},
   "outputs": [],
   "source": []
  },
  {
   "cell_type": "code",
   "execution_count": null,
   "metadata": {},
   "outputs": [],
   "source": []
  },
  {
   "cell_type": "code",
   "execution_count": 4,
   "metadata": {},
   "outputs": [],
   "source": [
    "def extract_features(model: torch.nn.Module, dataset: torch.utils.data.Dataset, cuda=True):\n",
    "\n",
    "    dl = torch.utils.data.DataLoader(\n",
    "        dataset,\n",
    "        batch_size=64,\n",
    "        num_workers=1, \n",
    "        pin_memory=cuda,\n",
    "    )\n",
    "    \n",
    "    d_feats = []\n",
    "    with torch.inference_mode():\n",
    "        for i, batch in enumerate(tqdm.tqdm(dl)):\n",
    "            imgs = batch[\"img\"]\n",
    "            if cuda:\n",
    "                imgs = imgs.cuda()\n",
    "            if hasattr(model, \"features2\"):\n",
    "                feats = model.features2(imgs)\n",
    "            else:\n",
    "                feats = model.features(imgs)\n",
    "            feats = feats.detach().cpu().numpy()\n",
    "            feats = feats.reshape(len(feats),-1)\n",
    "            d_feats.append(feats)\n",
    "    d_feats = np.concatenate(d_feats)\n",
    "    return d_feats\n"
   ]
  },
  {
   "cell_type": "code",
   "execution_count": null,
   "metadata": {},
   "outputs": [],
   "source": []
  },
  {
   "cell_type": "code",
   "execution_count": 5,
   "metadata": {
    "tags": []
   },
   "outputs": [],
   "source": [
    "transform = torchvision.transforms.Compose([\n",
    "    xrv.datasets.XRayCenterCrop(),\n",
    "    xrv.datasets.XRayResizer(512),\n",
    "])"
   ]
  },
  {
   "cell_type": "code",
   "execution_count": null,
   "metadata": {},
   "outputs": [],
   "source": []
  },
  {
   "cell_type": "code",
   "execution_count": 6,
   "metadata": {},
   "outputs": [],
   "source": [
    "pathos = [\"Effusion\", \"Fibrosis\", \"Hernia\", \"Edema\"]"
   ]
  },
  {
   "cell_type": "code",
   "execution_count": 7,
   "metadata": {},
   "outputs": [
    {
     "name": "stdout",
     "output_type": "stream",
     "text": [
      "{'Support Devices', 'Atelectasis', 'Emphysema', 'Infiltration', 'Cardiomegaly', 'Costophrenic Angle Blunting', 'Hemidiaphragm Elevation', 'Bronchiectasis', 'Flattened Diaphragm', 'Scoliosis', 'Consolidation', 'Granuloma', 'Tube', 'Air Trapping', 'Aortic Atheromatosis', 'Pneumothorax', 'Mass', 'Pleural_Thickening', 'Tuberculosis', 'Fracture', 'Nodule', 'Aortic Elongation', 'Hilar Enlargement', 'Pneumonia'} will be dropped\n",
      "{'Pneumothorax', 'Atelectasis', 'Emphysema', 'Infiltration', 'Cardiomegaly', 'Mass', 'Pleural_Thickening', 'Nodule', 'Consolidation', 'Pneumonia'} will be dropped\n",
      "['Hernia', 'Fibrosis', 'Effusion', 'Edema']\n"
     ]
    }
   ],
   "source": [
    "dataset = dataset_utils.get_data(\"nih-pc\", pathologies=pathos, transform=transform)"
   ]
  },
  {
   "cell_type": "code",
   "execution_count": null,
   "metadata": {},
   "outputs": [],
   "source": []
  },
  {
   "cell_type": "code",
   "execution_count": 8,
   "metadata": {},
   "outputs": [],
   "source": [
    "# select samples with one element\n",
    "dataset = xrv.datasets.SubsetDataset(dataset, idxs=np.where(np.sum(dataset.labels, axis=1) == 1)[0])"
   ]
  },
  {
   "cell_type": "code",
   "execution_count": 9,
   "metadata": {},
   "outputs": [
    {
     "name": "stdout",
     "output_type": "stream",
     "text": [
      "{'Edema': {0.0: 20051, 1.0: 2015},\n",
      " 'Effusion': {0.0: 5805, 1.0: 16261},\n",
      " 'Fibrosis': {0.0: 19948, 1.0: 2118},\n",
      " 'Hernia': {0.0: 20394, 1.0: 1672}}\n"
     ]
    },
    {
     "data": {
      "text/plain": [
       "SubsetDataset num_samples=22066\n",
       "└ of MergeDataset num_samples=206945\n",
       "  ├0 PC_Dataset num_samples=94825 views=['PA', 'AP'] data_aug=None\n",
       "  └1 NIH_Dataset num_samples=112120 views=['PA', 'AP'] data_aug=None\n",
       "  "
      ]
     },
     "execution_count": 9,
     "metadata": {},
     "output_type": "execute_result"
    }
   ],
   "source": [
    "dataset"
   ]
  },
  {
   "cell_type": "code",
   "execution_count": null,
   "metadata": {},
   "outputs": [],
   "source": []
  },
  {
   "cell_type": "code",
   "execution_count": 10,
   "metadata": {},
   "outputs": [],
   "source": [
    "# load equal number of samples of each pathology\n",
    "num_samples = 128\n",
    "idxs = []\n",
    "for path in pathos:\n",
    "    path_idxs = dataset.labels[:,dataset.pathologies.index(path)] == 1\n",
    "    np.random.seed(0)\n",
    "    idxs.append(np.random.choice(np.where(path_idxs)[0], num_samples, replace=False))\n",
    "idxs = np.concatenate(idxs)"
   ]
  },
  {
   "cell_type": "code",
   "execution_count": null,
   "metadata": {},
   "outputs": [],
   "source": []
  },
  {
   "cell_type": "code",
   "execution_count": null,
   "metadata": {},
   "outputs": [],
   "source": []
  },
  {
   "cell_type": "code",
   "execution_count": 11,
   "metadata": {},
   "outputs": [],
   "source": [
    "dataset = xrv.datasets.SubsetDataset(dataset, idxs=idxs)"
   ]
  },
  {
   "cell_type": "code",
   "execution_count": 12,
   "metadata": {},
   "outputs": [
    {
     "name": "stdout",
     "output_type": "stream",
     "text": [
      "{'Edema': {0.0: 384, 1.0: 128},\n",
      " 'Effusion': {0.0: 384, 1.0: 128},\n",
      " 'Fibrosis': {0.0: 384, 1.0: 128},\n",
      " 'Hernia': {0.0: 384, 1.0: 128}}\n"
     ]
    },
    {
     "data": {
      "text/plain": [
       "SubsetDataset num_samples=512\n",
       "└ of SubsetDataset num_samples=22066\n",
       "  └ of MergeDataset num_samples=206945\n",
       "    ├0 PC_Dataset num_samples=94825 views=['PA', 'AP'] data_aug=None\n",
       "    └1 NIH_Dataset num_samples=112120 views=['PA', 'AP'] data_aug=None\n",
       "    "
      ]
     },
     "execution_count": 12,
     "metadata": {},
     "output_type": "execute_result"
    }
   ],
   "source": [
    "dataset"
   ]
  },
  {
   "cell_type": "code",
   "execution_count": null,
   "metadata": {},
   "outputs": [],
   "source": []
  },
  {
   "cell_type": "code",
   "execution_count": 13,
   "metadata": {},
   "outputs": [
    {
     "name": "stderr",
     "output_type": "stream",
     "text": [
      "100%|██████████| 8/8 [00:24<00:00,  3.11s/it]\n"
     ]
    }
   ],
   "source": [
    "data = extract_features(model, dataset)"
   ]
  },
  {
   "cell_type": "code",
   "execution_count": null,
   "metadata": {},
   "outputs": [],
   "source": []
  },
  {
   "cell_type": "code",
   "execution_count": 14,
   "metadata": {},
   "outputs": [
    {
     "data": {
      "text/plain": [
       "(512, 2048)"
      ]
     },
     "execution_count": 14,
     "metadata": {},
     "output_type": "execute_result"
    }
   ],
   "source": [
    "data.shape"
   ]
  },
  {
   "cell_type": "code",
   "execution_count": null,
   "metadata": {},
   "outputs": [],
   "source": []
  },
  {
   "cell_type": "code",
   "execution_count": 15,
   "metadata": {},
   "outputs": [],
   "source": [
    "# import sklearn, sklearn.manifold\n",
    "# X_embedded = sklearn.manifold.TSNE(n_components=2, random_state=54).fit_transform(data)\n",
    "# X_embedded.shape"
   ]
  },
  {
   "cell_type": "code",
   "execution_count": 16,
   "metadata": {},
   "outputs": [],
   "source": [
    "import warnings\n",
    "with warnings.catch_warnings():\n",
    "    warnings.simplefilter(\"ignore\")\n",
    "    import umap\n",
    "    reducer = umap.UMAP()\n",
    "    X_embedded = reducer.fit_transform(data)\n",
    "    X_embedded.shape"
   ]
  },
  {
   "cell_type": "code",
   "execution_count": null,
   "metadata": {},
   "outputs": [],
   "source": []
  },
  {
   "cell_type": "code",
   "execution_count": 17,
   "metadata": {},
   "outputs": [
    {
     "name": "stdout",
     "output_type": "stream",
     "text": [
      "mi2rl-chess__dim_2048_\n"
     ]
    },
    {
     "data": {
      "image/png": "[encoded data removed]",
      "text/plain": [
       "<Figure size 600x500 with 1 Axes>"
      ]
     },
     "metadata": {},
     "output_type": "display_data"
    }
   ],
   "source": [
    "plt.figure(0, figsize=(6, 5), dpi=100)\n",
    "markers = [\"s\", \"o\", \"v\", \"^\", \"P\", \"x\", \"*\"]\n",
    "for i, idx in enumerate(sorted(np.unique(np.argmax(dataset.labels, axis=1)))):\n",
    "    name = dataset.pathologies[idx]\n",
    "    \n",
    "    mask = np.argmax(dataset.labels, axis=1) == idx\n",
    "    \n",
    "    plt.scatter(X_embedded[:,0][mask], \n",
    "                X_embedded[:,1][mask], \n",
    "                s=5,\n",
    "                label=name,\n",
    "                marker=markers[i]\n",
    "                );\n",
    "plt.legend();\n",
    "plt.gca().xaxis.set_major_locator(plt.NullLocator())\n",
    "plt.gca().yaxis.set_major_locator(plt.NullLocator())\n",
    "plt.tight_layout()\n",
    "plt.title(f'{model} (dim:{data.shape[1]})');\n",
    "fname = (f'{model} (dim:{data.shape[1]})').lower()\n",
    "for rm in [\" \", \"(\", \")\", \":\"]:\n",
    "    fname = fname.replace(rm, \"_\")\n",
    "print(fname)"
   ]
  },
  {
   "cell_type": "code",
   "execution_count": null,
   "metadata": {},
   "outputs": [],
   "source": []
  },
  {
   "cell_type": "code",
   "execution_count": null,
   "metadata": {},
   "outputs": [],
   "source": []
  },
  {
   "cell_type": "code",
   "execution_count": null,
   "metadata": {},
   "outputs": [],
   "source": []
  },
  {
   "cell_type": "code",
   "execution_count": null,
   "metadata": {},
   "outputs": [],
   "source": []
  }
 ],
 "metadata": {
  "kernelspec": {
   "display_name": "Python 3",
   "language": "python",
   "name": "python3"
  },
  "language_info": {
   "codemirror_mode": {
    "name": "ipython",
    "version": 3
   },
   "file_extension": ".py",
   "mimetype": "text/x-python",
   "name": "python",
   "nbconvert_exporter": "python",
   "pygments_lexer": "ipython3",
   "version": "3.9.0"
  }
 },
 "nbformat": 4,
 "nbformat_minor": 4
}
